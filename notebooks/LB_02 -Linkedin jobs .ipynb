{
 "cells": [
  {
   "cell_type": "code",
   "execution_count": 1,
   "metadata": {},
   "outputs": [
    {
     "name": "stderr",
     "output_type": "stream",
     "text": [
      "/home/giuseppe/projetos-pessoais/linkedin-bot/.venv/lib/python3.10/site-packages/tqdm/auto.py:21: TqdmWarning: IProgress not found. Please update jupyter and ipywidgets. See https://ipywidgets.readthedocs.io/en/stable/user_install.html\n",
      "  from .autonotebook import tqdm as notebook_tqdm\n"
     ]
    },
    {
     "data": {
      "text/plain": [
       "True"
      ]
     },
     "execution_count": 1,
     "metadata": {},
     "output_type": "execute_result"
    }
   ],
   "source": [
    "import requests\n",
    "from dotenv import load_dotenv\n",
    "import os\n",
    "import pandas as pd\n",
    "from huggingface_hub import login\n",
    "from langchain.agents import load_tools\n",
    "from langchain.agents import initialize_agent\n",
    "from langchain_core.messages import AnyMessage, SystemMessage, HumanMessage\n",
    "from pydantic import BaseModel, Field\n",
    "\n",
    "\n",
    "load_dotenv()\n"
   ]
  },
  {
   "cell_type": "code",
   "execution_count": 2,
   "metadata": {},
   "outputs": [
    {
     "name": "stderr",
     "output_type": "stream",
     "text": [
      "Note: Environment variable`HF_TOKEN` is set and is the current active token independently from the token you've just configured.\n"
     ]
    }
   ],
   "source": [
    "login(os.getenv(\"HF_TOKEN\"))"
   ]
  },
  {
   "cell_type": "code",
   "execution_count": 3,
   "metadata": {},
   "outputs": [],
   "source": [
    "data = {\n",
    "  \"include_total_results\": False,\n",
    "  \"order_by\": [\n",
    "    {\n",
    "      \"desc\": True,\n",
    "      \"field\": \"date_posted\"\n",
    "    }\n",
    "  ],\n",
    "  \"posted_at_max_age_days\": 15,\n",
    "  \"job_country_code_or\": [\n",
    "    \"IT\"\n",
    "  ],\n",
    "  \"job_title_or\": [\n",
    "    \"Data Scientist\",\n",
    "    \"AI Engineer\"\n",
    "  ],\n",
    "  \"remote\": True,\n",
    "  \"easy_apply\": True,\n",
    "  \"page\": 0,\n",
    "  \"limit\": 10,\n",
    "  \"blur_company_data\": False\n",
    "}"
   ]
  },
  {
   "cell_type": "code",
   "execution_count": 4,
   "metadata": {},
   "outputs": [],
   "source": [
    "url =\"https://api.theirstack.com/v1/jobs/search\"\n",
    "\n",
    "headers = {\n",
    "    \"Accept\": \"application/json\",\n",
    "    \"Content-Type\": \"application/json\",\n",
    "    \"Authorization\": f\"Bearer {os.getenv('their_stack_api_key')}\"}\n",
    "\n",
    "if os.path.exists(\"/home/giuseppe/projetos-pessoais/linkedin-bot/data/raw/jobs_1.csv\"):\n",
    "    df_jobs = pd.read_csv(\"/home/giuseppe/projetos-pessoais/linkedin-bot/data/raw/jobs_1.csv\")\n",
    "else:\n",
    "    response = requests.post(url, headers=headers, json=data)\n",
    "    request = response.json()\n",
    "    df_jobs = pd.DataFrame(request[\"data\"])"
   ]
  },
  {
   "cell_type": "code",
   "execution_count": 5,
   "metadata": {},
   "outputs": [
    {
     "data": {
      "text/plain": [
       "\"### **Accepted Locations**\\n\\n\\nWe accept applicants from the US, Canada, and most countries in LATAM and Europe. We are also accepting candidates from some countries in Africa and Asia. For the complete list of accepted locations, click here. This work is 100% remote.\\n\\n**Loom Video**\\n\\n\\nOur Founder/CEO, Gabe Greenberg, created an in\\\\-depth Loom video that we highly recommend you watch! Check it out here: Loom Video\\n\\n**Overview**\\n\\n\\nJoin our expert annotation team to create training data for the world's most advanced AI models. No previous AI experience is necessary. You'll get your foot in the door with one of the most prominent players in the AI/LLM space today. We're primarily seeking JavaScript/React developers with 3\\\\+ years of experience to train large AI language models, helping cutting\\\\-edge generative AI models write better frontend code. Projects typically include discrete, highly variable problems that involve engaging with these models as they learn to code. We currently have 200\\\\+ roles open!\\n\\n**What Will I Be Doing?**\\n\\n* Evaluating the quality of AI\\\\-generated code, including human\\\\-readable summaries of your rationale.\\n* Building and evaluating React components, hooks, and modern JavaScript solutions.\\n* Solving coding problems and writing functional and efficient JavaScript/React code.\\n* Writing robust test cases to confirm code works efficiently and effectively.\\n* Creating instructions to help others and reviewing code before it goes into the model.\\n* Engaging in a variety of projects, from evaluating code snippets to developing full mobile applications using chatbots.\\n\\n**Pay Rates**\\n\\n\\nCompensation rates vary based on location and experience and you can find them in this document. The following rates are starting points and may be subject to change. Expectations are 15\\\\+ hours per week; however, there is no upper limit. You can work as much as you want and will be paid weekly per hour of work done on the platform.\\n\\n**Contract Length**\\n\\n\\nThis is a long\\\\-term contract with no end date. We expect to have work for the next 2 years. You can end the contract at any time, but we hope you will commit to 12 months of work.\\n\\n**Flexible Schedules**\\n\\n\\nDevelopers can set their own hours—ideal candidates will be interested in spending 40 hours a week. You will be with teams, so strong performers will adapt to the urgency of projects and stay engaged, but we are incredibly flexible on working hours. You can take a 3\\\\-hour lunch with no problem. Instead of tracking your hours, you are paid according to time spent on the platform, calculated in the coding exercises.\\n\\n**Interview Process**\\n\\n* Apply using this Ashby form.\\n* If you seem like a good fit, we'll send an async RLHF code review that will take 35 minutes and must be finished within 72 hours of us sending it.\\n* You'll receive credentials to the RLHF platform. We'll then set up a group call to answer any further questions about onboarding with the company.\\n* You'll perform a simulated production\\\\-level task (RLHF task) on the platform. This will be your final interview, which will ultimately determine your employment and leveling. Successful completion of this process provides you with an opportunity to work on projects as they become available.\\n\\n**Tech Stack Priorities**\\n\\n\\nThe current priority for this team is frontend engineers who are well versed in JavaScript, React, and modern web development frameworks and libraries.\\n\\n**Required Qualifications**\\n\\n* 3\\\\+ years of experience in a software engineering/software development role.\\n* Strong proficiency with JavaScript/React and frontend development.\\n* Complete fluency in the English language.\\n* Ability to articulate complex technical concepts clearly and engagingly.\\n* Excellent attention to detail and ability to maintain consistency in writing. Solid understanding of grammar, punctuation, and style guidelines.\\n\\n**Nice To Haves:**\\n\\n* Bachelor's or Master's degree in Computer Science.\\n* Experience with modern JavaScript frameworks and libraries (Next.js, Vue, Angular).\\n* Familiarity with frontend testing frameworks (Jest, React Testing Library, Cypress).\\n* Knowledge of state management solutions (Redux, Context API, MobX).\\n* Experience with TypeScript and modern frontend tooling.\\n* Recognized accomplishments or contributions to the coding community or in projects.\\n* Proven analytical skills with an ability to approach problems creatively.\\n* Adept communication skills, especially when understanding and discussing project requirements.\\n* A commitment to continuous learning and staying updated with the latest coding advancements and best practices.\\n* Enthusiasm for teaching AI models and experience with technical writing!\\n\\n\\nIf you're passionate about JavaScript, React, and the future of frontend development, this is an excellent opportunity to contribute to cutting\\\\-edge AI technology while leveraging your expertise!\\n\\n\""
      ]
     },
     "execution_count": 5,
     "metadata": {},
     "output_type": "execute_result"
    }
   ],
   "source": [
    "df_jobs.loc[0, \"description\"]"
   ]
  },
  {
   "cell_type": "code",
   "execution_count": 6,
   "metadata": {},
   "outputs": [
    {
     "name": "stdout",
     "output_type": "stream",
     "text": [
      "### **Accepted Locations**\n",
      "\n",
      "\n",
      "We accept applicants from the US, Canada, and most countries in LATAM and Europe. We are also accepting candidates from some countries in Africa and Asia. For the complete list of accepted locations, click here. This work is 100% remote.\n",
      "\n",
      "**Loom Video**\n",
      "\n",
      "\n",
      "Our Founder/CEO, Gabe Greenberg, created an in\\-depth Loom video that we highly recommend you watch! Check it out here: Loom Video\n",
      "\n",
      "**Overview**\n",
      "\n",
      "\n",
      "Join our expert annotation team to create training data for the world's most advanced AI models. No previous AI experience is necessary. You'll get your foot in the door with one of the most prominent players in the AI/LLM space today. We're primarily seeking JavaScript/React developers with 3\\+ years of experience to train large AI language models, helping cutting\\-edge generative AI models write better frontend code. Projects typically include discrete, highly variable problems that involve engaging with these models as they learn to code. We currently have 200\\+ roles open!\n",
      "\n",
      "**What Will I Be Doing?**\n",
      "\n",
      "* Evaluating the quality of AI\\-generated code, including human\\-readable summaries of your rationale.\n",
      "* Building and evaluating React components, hooks, and modern JavaScript solutions.\n",
      "* Solving coding problems and writing functional and efficient JavaScript/React code.\n",
      "* Writing robust test cases to confirm code works efficiently and effectively.\n",
      "* Creating instructions to help others and reviewing code before it goes into the model.\n",
      "* Engaging in a variety of projects, from evaluating code snippets to developing full mobile applications using chatbots.\n",
      "\n",
      "**Pay Rates**\n",
      "\n",
      "\n",
      "Compensation rates vary based on location and experience and you can find them in this document. The following rates are starting points and may be subject to change. Expectations are 15\\+ hours per week; however, there is no upper limit. You can work as much as you want and will be paid weekly per hour of work done on the platform.\n",
      "\n",
      "**Contract Length**\n",
      "\n",
      "\n",
      "This is a long\\-term contract with no end date. We expect to have work for the next 2 years. You can end the contract at any time, but we hope you will commit to 12 months of work.\n",
      "\n",
      "**Flexible Schedules**\n",
      "\n",
      "\n",
      "Developers can set their own hours—ideal candidates will be interested in spending 40 hours a week. You will be with teams, so strong performers will adapt to the urgency of projects and stay engaged, but we are incredibly flexible on working hours. You can take a 3\\-hour lunch with no problem. Instead of tracking your hours, you are paid according to time spent on the platform, calculated in the coding exercises.\n",
      "\n",
      "**Interview Process**\n",
      "\n",
      "* Apply using this Ashby form.\n",
      "* If you seem like a good fit, we'll send an async RLHF code review that will take 35 minutes and must be finished within 72 hours of us sending it.\n",
      "* You'll receive credentials to the RLHF platform. We'll then set up a group call to answer any further questions about onboarding with the company.\n",
      "* You'll perform a simulated production\\-level task (RLHF task) on the platform. This will be your final interview, which will ultimately determine your employment and leveling. Successful completion of this process provides you with an opportunity to work on projects as they become available.\n",
      "\n",
      "**Tech Stack Priorities**\n",
      "\n",
      "\n",
      "The current priority for this team is frontend engineers who are well versed in JavaScript, React, and modern web development frameworks and libraries.\n",
      "\n",
      "**Required Qualifications**\n",
      "\n",
      "* 3\\+ years of experience in a software engineering/software development role.\n",
      "* Strong proficiency with JavaScript/React and frontend development.\n",
      "* Complete fluency in the English language.\n",
      "* Ability to articulate complex technical concepts clearly and engagingly.\n",
      "* Excellent attention to detail and ability to maintain consistency in writing. Solid understanding of grammar, punctuation, and style guidelines.\n",
      "\n",
      "**Nice To Haves:**\n",
      "\n",
      "* Bachelor's or Master's degree in Computer Science.\n",
      "* Experience with modern JavaScript frameworks and libraries (Next.js, Vue, Angular).\n",
      "* Familiarity with frontend testing frameworks (Jest, React Testing Library, Cypress).\n",
      "* Knowledge of state management solutions (Redux, Context API, MobX).\n",
      "* Experience with TypeScript and modern frontend tooling.\n",
      "* Recognized accomplishments or contributions to the coding community or in projects.\n",
      "* Proven analytical skills with an ability to approach problems creatively.\n",
      "* Adept communication skills, especially when understanding and discussing project requirements.\n",
      "* A commitment to continuous learning and staying updated with the latest coding advancements and best practices.\n",
      "* Enthusiasm for teaching AI models and experience with technical writing!\n",
      "\n",
      "\n",
      "If you're passionate about JavaScript, React, and the future of frontend development, this is an excellent opportunity to contribute to cutting\\-edge AI technology while leveraging your expertise!\n",
      "\n",
      "\n"
     ]
    }
   ],
   "source": [
    "print(df_jobs.description[0])"
   ]
  },
  {
   "cell_type": "code",
   "execution_count": 12,
   "metadata": {},
   "outputs": [
    {
     "name": "stdout",
     "output_type": "stream",
     "text": [
      "Mavriq, parte di Moltiply Group, è la tech company a cui appartengono alcuni tra i più importanti brand di comparazione ed intermediazione online in Italia (MutuiOnline.it, Segugio.it, SOStariffe.it, Trovaprezzi.it, Switcho e molti altri) e all’estero (LeLynx.fr, Rastreator, Pricewise, Verivox). I servizi offerti dai brand di Mavriq aiutano con trasparenza i consumatori a trovare ciò di cui hanno bisogno, al miglior prezzo. Siamo un team di circa 1\\.000 “smart disruptors” distribuiti in Europa, America Latina ed Asia.\n",
      "\n",
      "  \n",
      "\n",
      "Il successo di Mavriq è legato al successo dei nostri team. Per questo, siamo oggi alla ricerca di un nuovo o una nuova team member con cui continuare a scrivere la nostra storia nel mondo della comparazione ed intermediazione internazionale.\n",
      "\n",
      "  \n",
      "\n",
      "  \n",
      "\n",
      "**Posizione:**\n",
      "--------------\n",
      "\n",
      "**Il ruolo**\n",
      "\n",
      "\n",
      "Per supportare la crescita dei progetti di Machine Learning in Mavriq per i brand Segugio.it, PrestitiOnline e altri, siamo alla ricerca di un\\-a Junior Data Scientist che, riportando alla risorsa Senior del team, supporterà lo sviluppo di algoritmi avanzati per l’ottimizzazione dei nostri processi di acquisizione e di gestione dei clienti.\n",
      "\n",
      " **Location**\n",
      "\n",
      "\n",
      "La tua sede di lavoro sarà in Via Desenzano 2 a Milano (MM1 Gambara). Lavoriamo in modalità **ibrida**: 2 giorni in ufficio e 3 giorni in smart working, con flessibilità in ingresso e in uscita. I due giorni in ufficio sono un momento per i nostri team di aggregazione e scambio, e ci permettono di continuare ad alimentare la nostra Cultura Mavriq.\n",
      "\n",
      " **Come lavoriamo e cosa farai**\n",
      "\n",
      "\n",
      "Il team di Data Scientist, inserito all'interno della Funzione Marketing, si occupa di ideare, implementare e mantenere diversi modelli machine learning a supporto del business.\n",
      "\n",
      "  \n",
      "\n",
      "Nello specifico, ti occuperai di:\n",
      "\n",
      "* Realizzare progetti complessi di data analisi, con la responsabilità sull’intero ciclo di vita di un “data product”, dall’estrazione e trasformazione del dato fino alla realizzazione e alla messa in produzione dei modelli di machine learning.\n",
      "* Comunicare intuizioni e risultati ricavati dai dati in modo efficace e facilitandone la comprensione ai non addetti ai lavori.\n",
      "* Interagire con analisti ed esperti di business per identificare opportunità innovative.\n",
      "* Collaborare nella creazione di processi data\\-driven, definendo best\\-practice per la raccolta e l’uso dei dati.\n",
      "\n",
      "**Requisiti:**\n",
      "--------------\n",
      "\n",
      "**Di cosa avrai bisogno per il ruolo**\n",
      "\n",
      "* Breve esperienza pregressa in ambito Data Science, specialmente in Machine Learning. Oppure una forte motivazione a costruire il tuo percorso in Data Science.\n",
      "* Buona conoscenza pratica di statistica e machine learning,\n",
      "* Competenza e abilità nell’uso Python e delle sue librerie per Data Science e Machine Learning (Numpy, Pandas, Scikit\\-learn, ...)\n",
      "* Competenza nell’uso di database relazionali (MySQL, SqlServer, ...),\n",
      "* Familiarità con l’ambiente Linux,\n",
      "* Approccio data\\-driven alla risoluzione dei problemi,\n",
      "* Capacità di lavorare autonomamente e per obiettivi, bilanciando in maniera efficiente richieste e scadenze,\n",
      "* Capacità di interagire e comunicare efficacemente con interlocutori con profili diversi (manager, business analyst, sviluppatori, ...),\n",
      "* Comprensione dei principali concetti MLOps come deployment e monitoraggio dei modelli,\n",
      "* Buona padronanza della lingua inglese (B2\\-C1\\) e italiana (C1\\).\n",
      "\n",
      " **Cosa troverai da noi**\n",
      "\n",
      "* Ambiente di lavoro giovane, dinamico e informale, flessibilità di orario, smartworking, formazione continua e partecipazione a eventi e conferenze.\n",
      "* Sede spaziosa, open space, con diverse sale break e dotata di ciò di cui avrai bisogno per lavorare.\n",
      "* Pacchetto di benefit, come assicurazione sanitaria, buoni pasto e welfare.\n",
      "\n",
      "  \n",
      "\n",
      "Non vediamo l’ora di conoscerti!\n",
      "\n",
      "**Altre informazioni:**\n",
      "-----------------------\n",
      "\n",
      "Puoi scoprire di più su di noi a questo video. Leggere le nostre Recensioni su Indeed o Glassdoor. Familiarizzare con i nostri principi guida qui.\n",
      "\n",
      " *La ricerca è rivolta ad ambo i sessi (ai sensi delle Leggi n. 903/77 e n. 125/91\\).*\n",
      "\n",
      "*Si richiede esplicito consenso al trattamento dei dati personali (ex D.Lgs. 196/03 e GDPR \\- Reg.UE. 2016/679\\).*\n",
      "\n",
      "\n"
     ]
    }
   ],
   "source": [
    "print(df_jobs.description[6])"
   ]
  },
  {
   "cell_type": "code",
   "execution_count": null,
   "metadata": {},
   "outputs": [],
   "source": [
    "text = df_jobs.description[0]"
   ]
  },
  {
   "cell_type": "code",
   "execution_count": null,
   "metadata": {},
   "outputs": [],
   "source": [
    "class SummarizeDescription(BaseModel):\n",
    "    resume: str = Field(\n",
    "        description=\"Summarize the relevant informations contained in descrption  job position\"\n",
    "    )\n",
    "\n",
    "    smart_working: bool = Field(\n",
    "        description=\"Flag with true or false if this jobs in remote or not\"\n",
    "    )\n",
    "\n",
    "    required: str = Field(\n",
    "        description=\"The required skills and qualifications for the job position\"\n",
    "    )\n",
    "    nice_to_have: str = Field(\n",
    "        description=\"The nice to have skills and qualifications for the job position\"\n",
    "    )\n",
    "    company: str = Field(description=\"Summarize the company name and its mission\")\n",
    "    location: str = Field(description=\"Summarize the location of the job position\")\n",
    "\n",
    "    job_responsibilities: list[str] = Field(\n",
    "        description=\"The job responsibilities associated with the position\"\n",
    "    )\n",
    "\n",
    "    hards_skills: list[str] = Field(\n",
    "        description=\"The hard skills required for the job position\"\n",
    "    )\n",
    "    soft_skills: list[str] = Field(\n",
    "        description=\"The soft skills required for the job position\"\n",
    "    )"
   ]
  },
  {
   "cell_type": "code",
   "execution_count": 46,
   "metadata": {},
   "outputs": [
    {
     "name": "stderr",
     "output_type": "stream",
     "text": [
      "WARNING! grammar is not default parameter.\n",
      "                    grammar was transferred to model_kwargs.\n",
      "                    Please make sure that grammar is what you intended.\n",
      "Note: Environment variable`HF_TOKEN` is set and is the current active token independently from the token you've just configured.\n"
     ]
    }
   ],
   "source": [
    "from langchain_huggingface import HuggingFaceEndpoint, ChatHuggingFace\n",
    "\n",
    "llm = HuggingFaceEndpoint(\n",
    "    repo_id=\"Qwen/Qwen2.5-Coder-32B-Instruct\",\n",
    "    task=\"text-generation\",\n",
    "    do_sample=False,\n",
    "    repetition_penalty=1.03,\n",
    "    grammar={\"type\": \"json\", \"value\": SummarizeDescription.model_json_schema()},\n",
    "\n",
    ")\n",
    "chat = ChatHuggingFace(llm=llm, verbose=True)"
   ]
  },
  {
   "cell_type": "code",
   "execution_count": 50,
   "metadata": {},
   "outputs": [],
   "source": [
    "prompt = SystemMessage(\"\"\"Given the following job description, extract and summarize the key information into a structured JSON object with the following fields:\n",
    "- resume\n",
    "- smart_working\n",
    "- required\n",
    "- nice_to_have\n",
    "- company\n",
    "- location\n",
    "- job_responsibilities\n",
    "- hards_skills\n",
    "- soft_skills\n",
    "\n",
    "Job Description:\n",
    "\"\"\")"
   ]
  },
  {
   "cell_type": "code",
   "execution_count": 54,
   "metadata": {},
   "outputs": [
    {
     "name": "stderr",
     "output_type": "stream",
     "text": [
      "/tmp/ipykernel_48053/2545257953.py:4: LangChainDeprecationWarning: The method `BaseChatModel.__call__` was deprecated in langchain-core 0.1.7 and will be removed in 1.0. Use :meth:`~invoke` instead.\n",
      "  response = chat(messages)\n"
     ]
    }
   ],
   "source": [
    "text = HumanMessage(df_jobs.description[0], role=\"user\",\n",
    "                    additional_kwargs={\"grammar\": SummarizeDescription.model_json_schema()})\n",
    "messages = [prompt, text]\n",
    "response = chat(messages)"
   ]
  },
  {
   "cell_type": "code",
   "execution_count": 65,
   "metadata": {},
   "outputs": [
    {
     "data": {
      "text/plain": [
       "'Here is the structured JSON object based on the provided job description:\\n\\n```json\\n{\\n  \"resume\": \"Accepted from US, Canada, LATAM, Europe, some African and Asian countries. The job is 100% remote.\",\\n  \"smart_working\": \"Flexible schedules; no fixed working hours, expected to work 40 hours a week. Work according to the platform\\'s time tracking.\",\\n  \"required\": [\\n    \"3+ years of experience in a software engineering/software development role.\",\\n    \"Strong proficiency with JavaScript/React and frontend development.\",\\n    \"Complete fluency in the English language.\",\\n    \"Ability to articulate complex technical concepts clearly and engagingly.\",\\n    \"Excellent attention to detail and ability to maintain consistency in writing. Solid understanding of grammar, punctuation, and style guidelines.\"\\n  ],\\n  \"nice_to_have\": [\\n    \"Bachelor\\'s or Master\\'s degree in Computer Science.\",\\n    \"Experience with modern JavaScript frameworks and libraries (Next.js, Vue, Angular).\",\\n    \"Familiarity with frontend testing frameworks (Jest, React Testing Library, Cypress).\",\\n    \"Knowledge of state management solutions (Redux, Context API, MobX).\",\\n    \"Experience with TypeScript and modern frontend tooling.\",\\n    \"Recognized accomplishments or contributions to the coding community or in projects.\",\\n    \"Proven analytical skills with an ability to approach problems creatively.\",\\n    \"Adept communication skills, especially when understanding and discussing project requirements.\",\\n    \"A commitment to continuous learning and staying updated with the latest coding advancements and best practices.\",\\n    \"Enthusiasm for teaching AI models and experience with technical writing!\"\\n  ],\\n  \"company\": \"Not explicitly named, run by Gabe Greenberg and associated with prominent AI/LLM space players.\",\\n  \"location\": \"US, Canada, LATAM, Europe, some African and Asian countries, 100% remote\",\\n  \"job_responsibilities\": [\\n    \"Evaluating the quality of AI-generated code, including human-readable summaries of your rationale.\",\\n    \"Building and evaluating React components, hooks, and modern JavaScript solutions.\",\\n    \"Solving coding problems and writing functional and efficient JavaScript/React code.\",\\n    \"Writing robust test cases to confirm code works efficiently and effectively.\",\\n    \"Creating instructions to help others and reviewing code before it goes into the model.\",\\n    \"Engaging in a variety of projects, from evaluating code snippets to developing full mobile applications using chatbots.\"\\n  ],\\n  \"hards_skills\": [\\n    \"JavaScript/React proficiency\",\\n    \"Frontend development knowledge\",\\n    \"Fluency in English\",\\n    \"Experience with modern JavaScript frameworks and libraries (preferred)\",\\n    \"Familiarity with frontend testing frameworks (preferred)\",\\n    \"Knowledge of state management solutions (preferred)\",\\n    \"Experience with TypeScript (preferred)\",\\n    \"Understanding of modern frontend tooling (preferred)\",\\n    \"Analytical skills (preferred)\",\\n    \"Recognition in the coding community or project contributions (preferred)\"\\n  ],\\n  \"soft_skills\": [\\n    \"Technical writing and communication skills\",\\n    \"Creative problem-solving abilities\",\\n    \"Attention to detail with consistency in writing\",\\n    \"Strong analytical skills\",\\n    \"Adept communication skills, especially when understanding project requirements\",\\n    \"Commitment to continuous learning\",\\n    \"Passion for JavaScript, React, and frontend development\",\\n    \"Enthusiasm for teaching AI models\"\\n  ]\\n}\\n```\\n\\nThis structured JSON reflects the key details of the job description in the specified fields.'"
      ]
     },
     "execution_count": 65,
     "metadata": {},
     "output_type": "execute_result"
    }
   ],
   "source": [
    "response.content"
   ]
  },
  {
   "cell_type": "code",
   "execution_count": null,
   "metadata": {},
   "outputs": [
    {
     "name": "stdout",
     "output_type": "stream",
     "text": [
      "{'resume': 'Accepted from US, Canada, LATAM, Europe, some African and Asian countries. The job is 100% remote.', 'smart_working': \"Flexible schedules; no fixed working hours, expected to work 40 hours a week. Work according to the platform's time tracking.\", 'required': ['3+ years of experience in a software engineering/software development role.', 'Strong proficiency with JavaScript/React and frontend development.', 'Complete fluency in the English language.', 'Ability to articulate complex technical concepts clearly and engagingly.', 'Excellent attention to detail and ability to maintain consistency in writing. Solid understanding of grammar, punctuation, and style guidelines.'], 'nice_to_have': [\"Bachelor's or Master's degree in Computer Science.\", 'Experience with modern JavaScript frameworks and libraries (Next.js, Vue, Angular).', 'Familiarity with frontend testing frameworks (Jest, React Testing Library, Cypress).', 'Knowledge of state management solutions (Redux, Context API, MobX).', 'Experience with TypeScript and modern frontend tooling.', 'Recognized accomplishments or contributions to the coding community or in projects.', 'Proven analytical skills with an ability to approach problems creatively.', 'Adept communication skills, especially when understanding and discussing project requirements.', 'A commitment to continuous learning and staying updated with the latest coding advancements and best practices.', 'Enthusiasm for teaching AI models and experience with technical writing!'], 'company': 'Not explicitly named, run by Gabe Greenberg and associated with prominent AI/LLM space players.', 'location': 'US, Canada, LATAM, Europe, some African and Asian countries, 100% remote', 'job_responsibilities': ['Evaluating the quality of AI-generated code, including human-readable summaries of your rationale.', 'Building and evaluating React components, hooks, and modern JavaScript solutions.', 'Solving coding problems and writing functional and efficient JavaScript/React code.', 'Writing robust test cases to confirm code works efficiently and effectively.', 'Creating instructions to help others and reviewing code before it goes into the model.', 'Engaging in a variety of projects, from evaluating code snippets to developing full mobile applications using chatbots.'], 'hards_skills': ['JavaScript/React proficiency', 'Frontend development knowledge', 'Fluency in English', 'Experience with modern JavaScript frameworks and libraries (preferred)', 'Familiarity with frontend testing frameworks (preferred)', 'Knowledge of state management solutions (preferred)', 'Experience with TypeScript (preferred)', 'Understanding of modern frontend tooling (preferred)', 'Analytical skills (preferred)', 'Recognition in the coding community or project contributions (preferred)'], 'soft_skills': ['Technical writing and communication skills', 'Creative problem-solving abilities', 'Attention to detail with consistency in writing', 'Strong analytical skills', 'Adept communication skills, especially when understanding project requirements', 'Commitment to continuous learning', 'Passion for JavaScript, React, and frontend development', 'Enthusiasm for teaching AI models']}\n"
     ]
    }
   ],
   "source": [
    "import json\n",
    "import re\n",
    "\n",
    "def extract_json_from_response(response: str) -> dict:\n",
    "    \"\"\"\n",
    "    Extract JSON code block from a model response string and convert it to a Python dict.\n",
    "    \"\"\"\n",
    "    try:\n",
    "        # Find the JSON block inside triple backticks\n",
    "        match = re.search(r\"```json\\n(.*?)\\n```\", response, re.DOTALL)\n",
    "        if not match:\n",
    "            raise ValueError(\"JSON block not found in the response.\")\n",
    "\n",
    "        json_str = match.group(1).strip()\n",
    "        \n",
    "        # Load as Python dict\n",
    "        data = json.loads(json_str)\n",
    "        return data\n",
    "\n",
    "    except json.JSONDecodeError as e:\n",
    "        print(\"Failed to parse JSON:\", e)\n",
    "    except Exception as e:\n",
    "        print(\"Error:\", e)\n",
    "\n",
    "    return {}\n",
    "\n",
    "\n",
    "parsed_data = extract_json_from_response(response.content)\n",
    "    \n",
    "# Now `parsed_data` is a clean dictionary\n",
    "print(parsed_data)\n"
   ]
  },
  {
   "cell_type": "code",
   "execution_count": 73,
   "metadata": {},
   "outputs": [
    {
     "data": {
      "text/plain": [
       "{'resume': 'Accepted from US, Canada, LATAM, Europe, some African and Asian countries. The job is 100% remote.',\n",
       " 'smart_working': \"Flexible schedules; no fixed working hours, expected to work 40 hours a week. Work according to the platform's time tracking.\",\n",
       " 'required': ['3+ years of experience in a software engineering/software development role.',\n",
       "  'Strong proficiency with JavaScript/React and frontend development.',\n",
       "  'Complete fluency in the English language.',\n",
       "  'Ability to articulate complex technical concepts clearly and engagingly.',\n",
       "  'Excellent attention to detail and ability to maintain consistency in writing. Solid understanding of grammar, punctuation, and style guidelines.'],\n",
       " 'nice_to_have': [\"Bachelor's or Master's degree in Computer Science.\",\n",
       "  'Experience with modern JavaScript frameworks and libraries (Next.js, Vue, Angular).',\n",
       "  'Familiarity with frontend testing frameworks (Jest, React Testing Library, Cypress).',\n",
       "  'Knowledge of state management solutions (Redux, Context API, MobX).',\n",
       "  'Experience with TypeScript and modern frontend tooling.',\n",
       "  'Recognized accomplishments or contributions to the coding community or in projects.',\n",
       "  'Proven analytical skills with an ability to approach problems creatively.',\n",
       "  'Adept communication skills, especially when understanding and discussing project requirements.',\n",
       "  'A commitment to continuous learning and staying updated with the latest coding advancements and best practices.',\n",
       "  'Enthusiasm for teaching AI models and experience with technical writing!'],\n",
       " 'company': 'Not explicitly named, run by Gabe Greenberg and associated with prominent AI/LLM space players.',\n",
       " 'location': 'US, Canada, LATAM, Europe, some African and Asian countries, 100% remote',\n",
       " 'job_responsibilities': ['Evaluating the quality of AI-generated code, including human-readable summaries of your rationale.',\n",
       "  'Building and evaluating React components, hooks, and modern JavaScript solutions.',\n",
       "  'Solving coding problems and writing functional and efficient JavaScript/React code.',\n",
       "  'Writing robust test cases to confirm code works efficiently and effectively.',\n",
       "  'Creating instructions to help others and reviewing code before it goes into the model.',\n",
       "  'Engaging in a variety of projects, from evaluating code snippets to developing full mobile applications using chatbots.'],\n",
       " 'hards_skills': ['JavaScript/React proficiency',\n",
       "  'Frontend development knowledge',\n",
       "  'Fluency in English',\n",
       "  'Experience with modern JavaScript frameworks and libraries (preferred)',\n",
       "  'Familiarity with frontend testing frameworks (preferred)',\n",
       "  'Knowledge of state management solutions (preferred)',\n",
       "  'Experience with TypeScript (preferred)',\n",
       "  'Understanding of modern frontend tooling (preferred)',\n",
       "  'Analytical skills (preferred)',\n",
       "  'Recognition in the coding community or project contributions (preferred)'],\n",
       " 'soft_skills': ['Technical writing and communication skills',\n",
       "  'Creative problem-solving abilities',\n",
       "  'Attention to detail with consistency in writing',\n",
       "  'Strong analytical skills',\n",
       "  'Adept communication skills, especially when understanding project requirements',\n",
       "  'Commitment to continuous learning',\n",
       "  'Passion for JavaScript, React, and frontend development',\n",
       "  'Enthusiasm for teaching AI models']}"
      ]
     },
     "execution_count": 73,
     "metadata": {},
     "output_type": "execute_result"
    }
   ],
   "source": [
    "parsed_data"
   ]
  },
  {
   "cell_type": "code",
   "execution_count": 74,
   "metadata": {},
   "outputs": [
    {
     "data": {
      "text/plain": [
       "[SystemMessage(content='Given the following job description, extract and summarize the key information into a structured JSON object with the following fields:\\n- resume\\n- smart_working\\n- required\\n- nice_to_have\\n- company\\n- location\\n- job_responsibilities\\n- hards_skills\\n- soft_skills\\n\\nJob Description:\\n', additional_kwargs={}, response_metadata={}),\n",
       " HumanMessage(content=\"### **Accepted Locations**\\n\\n\\nWe accept applicants from the US, Canada, and most countries in LATAM and Europe. We are also accepting candidates from some countries in Africa and Asia. For the complete list of accepted locations, click here. This work is 100% remote.\\n\\n**Loom Video**\\n\\n\\nOur Founder/CEO, Gabe Greenberg, created an in\\\\-depth Loom video that we highly recommend you watch! Check it out here: Loom Video\\n\\n**Overview**\\n\\n\\nJoin our expert annotation team to create training data for the world's most advanced AI models. No previous AI experience is necessary. You'll get your foot in the door with one of the most prominent players in the AI/LLM space today. We're primarily seeking JavaScript/React developers with 3\\\\+ years of experience to train large AI language models, helping cutting\\\\-edge generative AI models write better frontend code. Projects typically include discrete, highly variable problems that involve engaging with these models as they learn to code. We currently have 200\\\\+ roles open!\\n\\n**What Will I Be Doing?**\\n\\n* Evaluating the quality of AI\\\\-generated code, including human\\\\-readable summaries of your rationale.\\n* Building and evaluating React components, hooks, and modern JavaScript solutions.\\n* Solving coding problems and writing functional and efficient JavaScript/React code.\\n* Writing robust test cases to confirm code works efficiently and effectively.\\n* Creating instructions to help others and reviewing code before it goes into the model.\\n* Engaging in a variety of projects, from evaluating code snippets to developing full mobile applications using chatbots.\\n\\n**Pay Rates**\\n\\n\\nCompensation rates vary based on location and experience and you can find them in this document. The following rates are starting points and may be subject to change. Expectations are 15\\\\+ hours per week; however, there is no upper limit. You can work as much as you want and will be paid weekly per hour of work done on the platform.\\n\\n**Contract Length**\\n\\n\\nThis is a long\\\\-term contract with no end date. We expect to have work for the next 2 years. You can end the contract at any time, but we hope you will commit to 12 months of work.\\n\\n**Flexible Schedules**\\n\\n\\nDevelopers can set their own hours—ideal candidates will be interested in spending 40 hours a week. You will be with teams, so strong performers will adapt to the urgency of projects and stay engaged, but we are incredibly flexible on working hours. You can take a 3\\\\-hour lunch with no problem. Instead of tracking your hours, you are paid according to time spent on the platform, calculated in the coding exercises.\\n\\n**Interview Process**\\n\\n* Apply using this Ashby form.\\n* If you seem like a good fit, we'll send an async RLHF code review that will take 35 minutes and must be finished within 72 hours of us sending it.\\n* You'll receive credentials to the RLHF platform. We'll then set up a group call to answer any further questions about onboarding with the company.\\n* You'll perform a simulated production\\\\-level task (RLHF task) on the platform. This will be your final interview, which will ultimately determine your employment and leveling. Successful completion of this process provides you with an opportunity to work on projects as they become available.\\n\\n**Tech Stack Priorities**\\n\\n\\nThe current priority for this team is frontend engineers who are well versed in JavaScript, React, and modern web development frameworks and libraries.\\n\\n**Required Qualifications**\\n\\n* 3\\\\+ years of experience in a software engineering/software development role.\\n* Strong proficiency with JavaScript/React and frontend development.\\n* Complete fluency in the English language.\\n* Ability to articulate complex technical concepts clearly and engagingly.\\n* Excellent attention to detail and ability to maintain consistency in writing. Solid understanding of grammar, punctuation, and style guidelines.\\n\\n**Nice To Haves:**\\n\\n* Bachelor's or Master's degree in Computer Science.\\n* Experience with modern JavaScript frameworks and libraries (Next.js, Vue, Angular).\\n* Familiarity with frontend testing frameworks (Jest, React Testing Library, Cypress).\\n* Knowledge of state management solutions (Redux, Context API, MobX).\\n* Experience with TypeScript and modern frontend tooling.\\n* Recognized accomplishments or contributions to the coding community or in projects.\\n* Proven analytical skills with an ability to approach problems creatively.\\n* Adept communication skills, especially when understanding and discussing project requirements.\\n* A commitment to continuous learning and staying updated with the latest coding advancements and best practices.\\n* Enthusiasm for teaching AI models and experience with technical writing!\\n\\n\\nIf you're passionate about JavaScript, React, and the future of frontend development, this is an excellent opportunity to contribute to cutting\\\\-edge AI technology while leveraging your expertise!\\n\\n\", additional_kwargs={'grammar': {'properties': {'resume': {'description': 'Summarize the relevant informations contained in descrption  job position', 'title': 'Resume', 'type': 'string'}, 'smart_working': {'description': 'Flag with true or false if this jobs in remote or not', 'title': 'Smart Working', 'type': 'boolean'}, 'required': {'description': 'The required skills and qualifications for the job position', 'title': 'Required', 'type': 'string'}, 'nice_to_have': {'description': 'The nice to have skills and qualifications for the job position', 'title': 'Nice To Have', 'type': 'string'}, 'company': {'description': 'Summarize the company name and its mission', 'title': 'Company', 'type': 'string'}, 'location': {'description': 'Summarize the location of the job position', 'title': 'Location', 'type': 'string'}, 'job_responsibilities': {'description': 'The job responsibilities associated with the position', 'title': 'Job Responsibilities', 'type': 'string'}, 'hards_skills': {'description': 'The hard skills required for the job position', 'title': 'Hards Skills', 'type': 'string'}, 'soft_skills': {'description': 'The soft skills required for the job position', 'title': 'Soft Skills', 'type': 'string'}}, 'required': ['resume', 'smart_working', 'required', 'nice_to_have', 'company', 'location', 'job_responsibilities', 'hards_skills', 'soft_skills'], 'title': 'SummarizeDescription', 'type': 'object'}}, response_metadata={}, role='user')]"
      ]
     },
     "execution_count": 74,
     "metadata": {},
     "output_type": "execute_result"
    }
   ],
   "source": [
    "messages"
   ]
  },
  {
   "cell_type": "code",
   "execution_count": null,
   "metadata": {},
   "outputs": [
    {
     "name": "stdout",
     "output_type": "stream",
     "text": [
      "Accepted Locations: United States, Canada, most countries in LATAM, Europe, some countries in Africa, Asia. For the complete list of locations: Click here.\n",
      "\n",
      "From Ashby form:\n",
      "\n",
      "Job type: Remote.\n",
      "\n",
      "Payment structure: Performed work with hourly payment; no cap on hours but the expectation is for delivery of 15+ hours weekly; expected commitment period: 12 months.\n",
      "\n",
      "Programming Languages: Highly experienced in JavaScript and React; comfort level with TypeScript is a Plus.\n",
      "\n",
      "Looking for: Skilled JavaScript/React developers, experienced in modern web development frameworks and libraries; proficient use of Jest and React Testing Library. Knowledge of state management (Redux, Context API, MobX) is a plus.\n",
      "\n",
      "On-boarding: Password for RLHF platform provided upon offer acceptance; group call with RLHF team to explain onboarding procedures; simulated RLHF task is the final step in the hiring process.\n"
     ]
    }
   ],
   "source": [
    "print(test.content)"
   ]
  },
  {
   "cell_type": "code",
   "execution_count": null,
   "metadata": {},
   "outputs": [],
   "source": [
    "aaaaaaaaaaaaaaa"
   ]
  },
  {
   "cell_type": "code",
   "execution_count": null,
   "metadata": {},
   "outputs": [
    {
     "ename": "",
     "evalue": "",
     "output_type": "error",
     "traceback": [
      "\u001b[1;31mO Kernel deu pane ao executar o código na célula atual ou em uma célula anterior. \n",
      "\u001b[1;31mAnalise o código nas células para identificar uma possível causa da pane. \n",
      "\u001b[1;31mClique <a href='https://aka.ms/vscodeJupyterKernelCrash'>aqui</a> para obter mais informações. \n",
      "\u001b[1;31mConsulte Jupyter <a href='command:jupyter.viewOutput'>log</a> para obter mais detalhes."
     ]
    }
   ],
   "source": [
    "from transformers import pipeline\n",
    "\n",
    "# # Replace this with your own checkpoint\n",
    "# model_checkpoint = \"google/gemma-3-1b-pt\"\n",
    "# token_classifier = pipeline(\n",
    "#     \"text-generation\", model=model_checkpoint\n",
    "# )\n",
    "# token_classifier(\"My name is Sylvain and I work at Hugging Face in Brooklyn.\")"
   ]
  },
  {
   "cell_type": "code",
   "execution_count": null,
   "metadata": {},
   "outputs": [
    {
     "data": {
      "text/plain": [
       "\"### **Accepted Locations**\\n\\n\\nWe accept applicants from the US, Canada, and most countries in LATAM and Europe. We are also accepting candidates from some countries in Africa and Asia. For the complete list of accepted locations, click here. This work is 100% remote.\\n\\n**Loom Video**\\n\\n\\nOur Founder/CEO, Gabe Greenberg, created an in\\\\-depth Loom video that we highly recommend you watch! Check it out here: Loom Video\\n\\n**Overview**\\n\\n\\nJoin our expert annotation team to create training data for the world's most advanced AI models. No previous AI experience is necessary. You'll get your foot in the door with one of the most prominent players in the AI/LLM space today. We're primarily seeking JavaScript/React developers with 3\\\\+ years of experience to train large AI language models, helping cutting\\\\-edge generative AI models write better frontend code. Projects typically include discrete, highly variable problems that involve engaging with these models as they learn to code. We currently have 200\\\\+ roles open!\\n\\n**What Will I Be Doing?**\\n\\n* Evaluating the quality of AI\\\\-generated code, including human\\\\-readable summaries of your rationale.\\n* Building and evaluating React components, hooks, and modern JavaScript solutions.\\n* Solving coding problems and writing functional and efficient JavaScript/React code.\\n* Writing robust test cases to confirm code works efficiently and effectively.\\n* Creating instructions to help others and reviewing code before it goes into the model.\\n* Engaging in a variety of projects, from evaluating code snippets to developing full mobile applications using chatbots.\\n\\n**Pay Rates**\\n\\n\\nCompensation rates vary based on location and experience and you can find them in this document. The following rates are starting points and may be subject to change. Expectations are 15\\\\+ hours per week; however, there is no upper limit. You can work as much as you want and will be paid weekly per hour of work done on the platform.\\n\\n**Contract Length**\\n\\n\\nThis is a long\\\\-term contract with no end date. We expect to have work for the next 2 years. You can end the contract at any time, but we hope you will commit to 12 months of work.\\n\\n**Flexible Schedules**\\n\\n\\nDevelopers can set their own hours—ideal candidates will be interested in spending 40 hours a week. You will be with teams, so strong performers will adapt to the urgency of projects and stay engaged, but we are incredibly flexible on working hours. You can take a 3\\\\-hour lunch with no problem. Instead of tracking your hours, you are paid according to time spent on the platform, calculated in the coding exercises.\\n\\n**Interview Process**\\n\\n* Apply using this Ashby form.\\n* If you seem like a good fit, we'll send an async RLHF code review that will take 35 minutes and must be finished within 72 hours of us sending it.\\n* You'll receive credentials to the RLHF platform. We'll then set up a group call to answer any further questions about onboarding with the company.\\n* You'll perform a simulated production\\\\-level task (RLHF task) on the platform. This will be your final interview, which will ultimately determine your employment and leveling. Successful completion of this process provides you with an opportunity to work on projects as they become available.\\n\\n**Tech Stack Priorities**\\n\\n\\nThe current priority for this team is frontend engineers who are well versed in JavaScript, React, and modern web development frameworks and libraries.\\n\\n**Required Qualifications**\\n\\n* 3\\\\+ years of experience in a software engineering/software development role.\\n* Strong proficiency with JavaScript/React and frontend development.\\n* Complete fluency in the English language.\\n* Ability to articulate complex technical concepts clearly and engagingly.\\n* Excellent attention to detail and ability to maintain consistency in writing. Solid understanding of grammar, punctuation, and style guidelines.\\n\\n**Nice To Haves:**\\n\\n* Bachelor's or Master's degree in Computer Science.\\n* Experience with modern JavaScript frameworks and libraries (Next.js, Vue, Angular).\\n* Familiarity with frontend testing frameworks (Jest, React Testing Library, Cypress).\\n* Knowledge of state management solutions (Redux, Context API, MobX).\\n* Experience with TypeScript and modern frontend tooling.\\n* Recognized accomplishments or contributions to the coding community or in projects.\\n* Proven analytical skills with an ability to approach problems creatively.\\n* Adept communication skills, especially when understanding and discussing project requirements.\\n* A commitment to continuous learning and staying updated with the latest coding advancements and best practices.\\n* Enthusiasm for teaching AI models and experience with technical writing!\\n\\n\\nIf you're passionate about JavaScript, React, and the future of frontend development, this is an excellent opportunity to contribute to cutting\\\\-edge AI technology while leveraging your expertise!\\n\\n\""
      ]
     },
     "execution_count": 10,
     "metadata": {},
     "output_type": "execute_result"
    }
   ],
   "source": [
    "df_jobs.description[0]"
   ]
  },
  {
   "cell_type": "code",
   "execution_count": null,
   "metadata": {},
   "outputs": [
    {
     "data": {
      "text/plain": [
       "[{'entity_group': 'LOC',\n",
       "  'score': np.float32(0.99939656),\n",
       "  'word': 'US',\n",
       "  'start': 59,\n",
       "  'end': 61},\n",
       " {'entity_group': 'LOC',\n",
       "  'score': np.float32(0.9994357),\n",
       "  'word': 'Canada',\n",
       "  'start': 63,\n",
       "  'end': 69},\n",
       " {'entity_group': 'LOC',\n",
       "  'score': np.float32(0.89667124),\n",
       "  'word': 'LATAM',\n",
       "  'start': 93,\n",
       "  'end': 98},\n",
       " {'entity_group': 'LOC',\n",
       "  'score': np.float32(0.99877053),\n",
       "  'word': 'Europe',\n",
       "  'start': 103,\n",
       "  'end': 109},\n",
       " {'entity_group': 'LOC',\n",
       "  'score': np.float32(0.99940634),\n",
       "  'word': 'Africa',\n",
       "  'start': 167,\n",
       "  'end': 173},\n",
       " {'entity_group': 'LOC',\n",
       "  'score': np.float32(0.99892527),\n",
       "  'word': 'Asia',\n",
       "  'start': 178,\n",
       "  'end': 182},\n",
       " {'entity_group': 'PER',\n",
       "  'score': np.float32(0.9992668),\n",
       "  'word': 'Gabe Greenberg',\n",
       "  'start': 302,\n",
       "  'end': 316},\n",
       " {'entity_group': 'MISC',\n",
       "  'score': np.float32(0.77809995),\n",
       "  'word': 'Loom',\n",
       "  'start': 339,\n",
       "  'end': 343},\n",
       " {'entity_group': 'MISC',\n",
       "  'score': np.float32(0.874496),\n",
       "  'word': 'AI /',\n",
       "  'start': 648,\n",
       "  'end': 651},\n",
       " {'entity_group': 'MISC',\n",
       "  'score': np.float32(0.8170493),\n",
       "  'word': 'LLM',\n",
       "  'start': 651,\n",
       "  'end': 654},\n",
       " {'entity_group': 'MISC',\n",
       "  'score': np.float32(0.9931605),\n",
       "  'word': 'JavaScript',\n",
       "  'start': 692,\n",
       "  'end': 702},\n",
       " {'entity_group': 'MISC',\n",
       "  'score': np.float32(0.70329404),\n",
       "  'word': 'React',\n",
       "  'start': 703,\n",
       "  'end': 708},\n",
       " {'entity_group': 'MISC',\n",
       "  'score': np.float32(0.67962855),\n",
       "  'word': 'AI',\n",
       "  'start': 1072,\n",
       "  'end': 1074},\n",
       " {'entity_group': 'MISC',\n",
       "  'score': np.float32(0.95369095),\n",
       "  'word': 'JavaScript',\n",
       "  'start': 1209,\n",
       "  'end': 1219},\n",
       " {'entity_group': 'MISC',\n",
       "  'score': np.float32(0.9906002),\n",
       "  'word': 'JavaScript',\n",
       "  'start': 1294,\n",
       "  'end': 1304},\n",
       " {'entity_group': 'MISC',\n",
       "  'score': np.float32(0.9160686),\n",
       "  'word': '##act',\n",
       "  'start': 1307,\n",
       "  'end': 1310}]"
      ]
     },
     "execution_count": 9,
     "metadata": {},
     "output_type": "execute_result"
    }
   ],
   "source": [
    "token_classifier(df_jobs.description[0])"
   ]
  },
  {
   "cell_type": "code",
   "execution_count": null,
   "metadata": {},
   "outputs": [],
   "source": []
  }
 ],
 "metadata": {
  "kernelspec": {
   "display_name": ".venv",
   "language": "python",
   "name": "python3"
  },
  "language_info": {
   "codemirror_mode": {
    "name": "ipython",
    "version": 3
   },
   "file_extension": ".py",
   "mimetype": "text/x-python",
   "name": "python",
   "nbconvert_exporter": "python",
   "pygments_lexer": "ipython3",
   "version": "3.10.0"
  }
 },
 "nbformat": 4,
 "nbformat_minor": 2
}
